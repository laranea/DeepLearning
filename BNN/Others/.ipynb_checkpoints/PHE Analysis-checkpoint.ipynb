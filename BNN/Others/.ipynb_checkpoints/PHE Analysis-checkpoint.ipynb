{
 "cells": [
  {
   "cell_type": "markdown",
   "metadata": {},
   "source": [
    "# Paillier Ciphertext size Analysis"
   ]
  },
  {
   "cell_type": "markdown",
   "metadata": {},
   "source": [
    "## 8 bit Key on 1 bit value"
   ]
  },
  {
   "cell_type": "code",
   "execution_count": 3,
   "metadata": {},
   "outputs": [
    {
     "name": "stdout",
     "output_type": "stream",
     "text": [
      "27461\n"
     ]
    }
   ],
   "source": [
    "import phe as paillier\n",
    "pubkey, privkey = paillier.generate_paillier_keypair(n_length=8)\n",
    "\n",
    "val=pubkey.encrypt(0b1)\n",
    "print(val.ciphertext())"
   ]
  },
  {
   "cell_type": "code",
   "execution_count": 4,
   "metadata": {},
   "outputs": [
    {
     "data": {
      "text/plain": [
       "'0b110101101000101'"
      ]
     },
     "execution_count": 4,
     "metadata": {},
     "output_type": "execute_result"
    }
   ],
   "source": [
    "bin(val.ciphertext())"
   ]
  },
  {
   "cell_type": "code",
   "execution_count": 5,
   "metadata": {},
   "outputs": [
    {
     "data": {
      "text/plain": [
       "17"
      ]
     },
     "execution_count": 5,
     "metadata": {},
     "output_type": "execute_result"
    }
   ],
   "source": [
    "len(bin(val.ciphertext()))"
   ]
  },
  {
   "cell_type": "code",
   "execution_count": 6,
   "metadata": {},
   "outputs": [
    {
     "name": "stdout",
     "output_type": "stream",
     "text": [
      "18916\n"
     ]
    }
   ],
   "source": [
    "val2=pubkey.encrypt(0b0)\n",
    "print(val2.ciphertext())"
   ]
  },
  {
   "cell_type": "code",
   "execution_count": 7,
   "metadata": {},
   "outputs": [
    {
     "data": {
      "text/plain": [
       "'0b100100111100100'"
      ]
     },
     "execution_count": 7,
     "metadata": {},
     "output_type": "execute_result"
    }
   ],
   "source": [
    "bin(val2.ciphertext())"
   ]
  },
  {
   "cell_type": "code",
   "execution_count": 8,
   "metadata": {},
   "outputs": [
    {
     "data": {
      "text/plain": [
       "17"
      ]
     },
     "execution_count": 8,
     "metadata": {},
     "output_type": "execute_result"
    }
   ],
   "source": [
    "len(bin(val2.ciphertext()))"
   ]
  },
  {
   "cell_type": "markdown",
   "metadata": {},
   "source": [
    "### Increasing the Input size keeping key size fixed"
   ]
  },
  {
   "cell_type": "code",
   "execution_count": 22,
   "metadata": {},
   "outputs": [
    {
     "name": "stdout",
     "output_type": "stream",
     "text": [
      "32326\n"
     ]
    }
   ],
   "source": [
    "val=pubkey.encrypt(0b111101)#160\n",
    "print(val.ciphertext())"
   ]
  },
  {
   "cell_type": "markdown",
   "metadata": {},
   "source": [
    "## Key size 16 bits"
   ]
  },
  {
   "cell_type": "code",
   "execution_count": 30,
   "metadata": {},
   "outputs": [
    {
     "name": "stdout",
     "output_type": "stream",
     "text": [
      "160331640\n"
     ]
    },
    {
     "data": {
      "text/plain": [
       "30"
      ]
     },
     "execution_count": 30,
     "metadata": {},
     "output_type": "execute_result"
    }
   ],
   "source": [
    "import phe as paillier\n",
    "pubkey, privkey = paillier.generate_paillier_keypair(n_length=16)\n",
    "\n",
    "val=pubkey.encrypt(0b1)\n",
    "print(val.ciphertext())\n",
    "len(bin(val.ciphertext()))"
   ]
  },
  {
   "cell_type": "markdown",
   "metadata": {},
   "source": [
    "## Key size 32 bits"
   ]
  },
  {
   "cell_type": "code",
   "execution_count": 34,
   "metadata": {},
   "outputs": [
    {
     "name": "stdout",
     "output_type": "stream",
     "text": [
      "5156385752449918008\n"
     ]
    },
    {
     "data": {
      "text/plain": [
       "65"
      ]
     },
     "execution_count": 34,
     "metadata": {},
     "output_type": "execute_result"
    }
   ],
   "source": [
    "import phe as paillier\n",
    "pubkey, privkey = paillier.generate_paillier_keypair(n_length=32)\n",
    "\n",
    "val=pubkey.encrypt(0b1)\n",
    "print(val.ciphertext())\n",
    "len(bin(val.ciphertext()))"
   ]
  },
  {
   "cell_type": "markdown",
   "metadata": {},
   "source": [
    "## Key size 32 bits"
   ]
  },
  {
   "cell_type": "code",
   "execution_count": 58,
   "metadata": {},
   "outputs": [
    {
     "name": "stdout",
     "output_type": "stream",
     "text": [
      "34382065281273613259610346675534211917\n"
     ]
    },
    {
     "data": {
      "text/plain": [
       "127"
      ]
     },
     "execution_count": 58,
     "metadata": {},
     "output_type": "execute_result"
    }
   ],
   "source": [
    "import phe as paillier\n",
    "pubkey, privkey = paillier.generate_paillier_keypair(n_length=64)\n",
    "\n",
    "val=pubkey.encrypt(10000000)\n",
    "print(val.ciphertext())\n",
    "len(bin(val.ciphertext()))"
   ]
  },
  {
   "cell_type": "code",
   "execution_count": 57,
   "metadata": {},
   "outputs": [
    {
     "name": "stdout",
     "output_type": "stream",
     "text": [
      "725783205198414456543085560607970817174694767017460725299535107028821606658781173213132202121080506615374381412807974161664070231515684091937115140846844733398686360785694779198764321734801251343226833031188834995271177612696716149683976443525387744658505632809723990903053040338540537511832314639155435620224165588327363266964527810476602673672019108748128929909030397836702990400273596360144597912746772317625613251349864131612633509906687932330282995325306601369994436603986986749367377529793603238308029134911352958820832568547635430700182317999044941272877988225420359535001757827986819746169748240225988680468806412619157980223509907176247379469437723058704070742171819744285987688547379855030732703173723298163392808261097384571522207903563660565189703364993447067228852932527821547308986193324466068209728272730789899980135294613186952142791399757463334483015445430966802597349398535605195755600925095641589605722280393102720076695558151956618437478235818406136935848105171606296112907917587941021213802822668134313349713593055038196617595946078963110209114999964407942028531928313771920173061423913760222019006196614429308749313471443759775842802996228272812024895300699170219264123618112648961528770787509484129507534891144672961668346638342825027768771822778847126653752551242903698035356307541218858212528876367147065906411795529325265535599557533184642752972498580306268755669998433211718430801558080308133917428025798128060716081477410666655894886063670486837547975154996236756926644961344702132644909471782969216379674253471093006015388056047614216007675585417339735773624036272076149257399129144292702506079691319067388422813926764364858653771253806568617836489607540471158539366248980764401807488354291310325732608443006493198194915107076201367577486754422419853141723758414958857842807186753355561957068886871647772344546771536602245640724813389096220419859262251765441146990124787396451711520120518141585598765047769790548231573991007840521783543508358235867957223812689540099382809182720825363451442922484829929275000753570321706982669987471730264533886802941329744405794240217837894223703709160756144771408016440573761548732688125689877152216859327718384442764700308103814734608825394143200733285138060630440566567459393463449680746495002924452966619697790251382529412505644933354096006602317795644715312198537474745243992532848209444854279102687508821975299515762006123340276741338388216690050030751445399013291420008792625790587142900802598406\n"
     ]
    },
    {
     "data": {
      "text/plain": [
       "8194"
      ]
     },
     "execution_count": 57,
     "metadata": {},
     "output_type": "execute_result"
    }
   ],
   "source": [
    "import phe as paillier\n",
    "pubkey, privkey = paillier.generate_paillier_keypair(n_length=4096)\n",
    "\n",
    "val=pubkey.encrypt(0b1)\n",
    "print(val.ciphertext())\n",
    "len(bin(val.ciphertext()))"
   ]
  },
  {
   "cell_type": "markdown",
   "metadata": {},
   "source": [
    "## For a key of 8 bits, max integer value is 61. Ciphertext size is about 16/17 bits. Increasing the key size increases the plaintext space but also increased the ciphertext size by twice. For binary computation, 8 bit key should be fine. For security, we might want to increase the bit size. The bruteforce limit is 2^64. So about 32 bits of keysize should be fine to prevent bruteforce attack. Anything below 32 bits is vulnerable to bruteforce.\n",
    "\n",
    "Max Input size supported=keysize| Key Size | Ciphertext Size\n",
    "\n",
    "    8    | 8 bits    | 16 bits\n",
    "    16 | 16 bits   | 32 bits\n",
    "    32 | 32 bits |64 bits\n",
    "    64  | 64 | 128\n",
    "    128 |  128  |  256\n",
    "    256| 256 | 512\n",
    "    512 | 512 | 1024\n",
    "    \n",
    "1024 | 1024 |2048\n",
    "\n",
    "\n",
    " 2048 |  2048  |  4096\n",
    "\n",
    "\n",
    "\n",
    "4096 |  4096  | 8192"
   ]
  },
  {
   "cell_type": "markdown",
   "metadata": {},
   "source": [
    "## Timing\n",
    "\n",
    "### Not considering the timing for key generation as that is assumed to be done as part of pre-processing."
   ]
  },
  {
   "cell_type": "code",
   "execution_count": 92,
   "metadata": {},
   "outputs": [
    {
     "name": "stdout",
     "output_type": "stream",
     "text": [
      "0.00037407875061035156\n"
     ]
    }
   ],
   "source": [
    "import time\n",
    "import phe as paillier\n",
    "\n",
    "\n",
    "pubkey, privkey = paillier.generate_paillier_keypair(n_length=64)\n",
    "start = time.time()\n",
    "val=pubkey.encrypt(0b01011101011001101001111100011010 )\n",
    "end = time.time()\n",
    "print(end - start)"
   ]
  },
  {
   "cell_type": "markdown",
   "metadata": {},
   "source": [
    "## Timing for 1 bit\n",
    "\n",
    "Key size | Time\n",
    "\n",
    "8 bits |  0.0005440711975097656\n",
    "\n",
    "16 bits | 0.0005660057067871094\n",
    "\n",
    "32 bits |  0.0004191398620605469\n",
    "\n",
    "64 bits | 0.000843048095703125\n",
    "\n",
    "128 bits | 0.0009400844573974609\n",
    "\n",
    "256 bits | 0.0010809898376464844\n",
    "\n",
    "512 bits | 0.0031118392944335938\n",
    "\n",
    "1024 bits | 0.01942300796508789\n",
    "\n",
    "2048 bits | 0.13026213645935059\n",
    "\n",
    "4096 bits | 0.9336450099945068"
   ]
  },
  {
   "cell_type": "code",
   "execution_count": 1,
   "metadata": {},
   "outputs": [],
   "source": [
    "import phe as paillier\n",
    "pubkey, privkey = paillier.generate_paillier_keypair(n_length=8)"
   ]
  },
  {
   "cell_type": "code",
   "execution_count": 2,
   "metadata": {},
   "outputs": [
    {
     "name": "stdout",
     "output_type": "stream",
     "text": [
      "909\n"
     ]
    }
   ],
   "source": [
    "val=pubkey.encrypt(10)\n",
    "print(val.ciphertext())"
   ]
  },
  {
   "cell_type": "code",
   "execution_count": 3,
   "metadata": {},
   "outputs": [
    {
     "name": "stdout",
     "output_type": "stream",
     "text": [
      "4508\n"
     ]
    }
   ],
   "source": [
    "val2=pubkey.encrypt(20)\n",
    "print(val2.ciphertext())"
   ]
  },
  {
   "cell_type": "code",
   "execution_count": 6,
   "metadata": {},
   "outputs": [
    {
     "name": "stdout",
     "output_type": "stream",
     "text": [
      "27895\n"
     ]
    }
   ],
   "source": [
    "print((val2-val).ciphertext())"
   ]
  },
  {
   "cell_type": "code",
   "execution_count": null,
   "metadata": {},
   "outputs": [],
   "source": []
  }
 ],
 "metadata": {
  "kernelspec": {
   "display_name": "Python 3",
   "language": "python",
   "name": "python3"
  },
  "language_info": {
   "codemirror_mode": {
    "name": "ipython",
    "version": 3
   },
   "file_extension": ".py",
   "mimetype": "text/x-python",
   "name": "python",
   "nbconvert_exporter": "python",
   "pygments_lexer": "ipython3",
   "version": "3.6.5"
  }
 },
 "nbformat": 4,
 "nbformat_minor": 2
}

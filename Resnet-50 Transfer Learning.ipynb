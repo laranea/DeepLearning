{
 "cells": [
  {
   "cell_type": "markdown",
   "metadata": {},
   "source": [
    "# Resnet-50 Transfer Learning"
   ]
  },
  {
   "cell_type": "code",
   "execution_count": null,
   "metadata": {},
   "outputs": [],
   "source": [
    "import numpy as np\n",
    "import os\n",
    "import time\n",
    "from resnet50 import ResNet50\n",
    "from keras.preprocessing import image\n",
    "from keras.layers import GlobalAveragePooling2D, Dense, Dropout,Activation,Flatten\n",
    "\n",
    "from imagenet_utils import preprocess_input\n",
    "from keras.layers import Input\n",
    "from keras.models import Model\n",
    "from keras.utils import np_utils\n",
    "from sklearn.utils import shuffle\n",
    "from sklearn.cross_validation import train_test_split\n",
    "\n",
    "\n",
    "# Loading the training data\n",
    "PATH = os.getcwd()\n",
    "# Define data path\n",
    "data_path = PATH + '/data'\n",
    "data_dir_list = os.listdir(data_path)\n",
    "\n",
    "img_data_list=[]\n",
    "\n",
    "for dataset in data_dir_list:\n",
    "\timg_list=os.listdir(data_path+'/'+ dataset)\n",
    "\tprint ('Loaded the images of dataset-'+'{}\\n'.format(dataset))\n",
    "\tfor img in img_list:\n",
    "\t\timg_path = data_path + '/'+ dataset + '/'+ img \n",
    "\t\timg = image.load_img(img_path, target_size=(224, 224))\n",
    "\t\tx = image.img_to_array(img)\n",
    "\t\tx = np.expand_dims(x, axis=0)\n",
    "\t\tx = preprocess_input(x)\n",
    "\t\tprint('Input image shape:', x.shape)\n",
    "\t\timg_data_list.append(x)\n",
    "\n",
    "img_data = np.array(img_data_list)\n",
    "#img_data = img_data.astype('float32')\n",
    "print (img_data.shape)\n",
    "img_data=np.rollaxis(img_data,1,0)\n",
    "print (img_data.shape)\n",
    "img_data=img_data[0]\n",
    "print (img_data.shape)\n",
    "\n",
    "\n",
    "# Define the number of classes\n",
    "num_classes = 4\n",
    "num_of_samples = img_data.shape[0]\n",
    "labels = np.ones((num_of_samples,),dtype='int64')\n",
    "\n",
    "labels[0:202]=0\n",
    "labels[202:404]=1\n",
    "labels[404:606]=2\n",
    "labels[606:]=3\n",
    "\n",
    "names = ['cats','dogs','horses','humans']\n",
    "# convert class labels to on-hot encoding\n",
    "Y = np_utils.to_categorical(labels, num_classes)\n",
    "\n",
    "#Shuffle the dataset\n",
    "x,y = shuffle(img_data,Y, random_state=2)\n",
    "# Split the dataset\n",
    "X_train, X_test, y_train, y_test = train_test_split(x, y, test_size=0.2, random_state=2)\n"
   ]
  },
  {
   "cell_type": "markdown",
   "metadata": {},
   "source": [
    "## Custom Model"
   ]
  },
  {
   "cell_type": "code",
   "execution_count": null,
   "metadata": {},
   "outputs": [],
   "source": [
    "image_input = Input(shape=(224, 224, 3))\n",
    "\n",
    "model = ResNet50(input_tensor=image_input, include_top=True,weights='imagenet')\n",
    "model.summary()\n",
    "last_layer = model.get_layer('avg_pool').output\n",
    "x= Flatten(name='flatten')(last_layer)\n",
    "out = Dense(num_classes, activation='softmax', name='output_layer')(x)\n",
    "custom_resnet_model = Model(inputs=image_input,outputs= out)\n",
    "custom_resnet_model.summary()\n",
    "\n",
    "for layer in custom_resnet_model.layers[:-1]:\n",
    "\tlayer.trainable = False\n",
    "\n",
    "custom_resnet_model.layers[-1].trainable\n",
    "\n",
    "custom_resnet_model.compile(loss='categorical_crossentropy',optimizer='adam',metrics=['accuracy'])\n",
    "\n",
    "t=time.time()\n",
    "hist = custom_resnet_model.fit(X_train, y_train, batch_size=32, epochs=12, verbose=1, validation_data=(X_test, y_test))\n",
    "print('Training time: %s' % (t - time.time()))\n",
    "(loss, accuracy) = custom_resnet_model.evaluate(X_test, y_test, batch_size=10, verbose=1)\n",
    "\n",
    "print(\"[INFO] loss={:.4f}, accuracy: {:.4f}%\".format(loss,accuracy * 100))\n"
   ]
  },
  {
   "cell_type": "markdown",
   "metadata": {},
   "source": [
    "## Fine Tuning"
   ]
  },
  {
   "cell_type": "code",
   "execution_count": null,
   "metadata": {},
   "outputs": [],
   "source": [
    "# Fine tune the resnet 50\n",
    "#image_input = Input(shape=(224, 224, 3))\n",
    "model = ResNet50(weights='imagenet',include_top=False)\n",
    "model.summary()\n",
    "last_layer = model.output\n",
    "# add a global spatial average pooling layer\n",
    "x = GlobalAveragePooling2D()(last_layer)\n",
    "# add fully-connected & dropout layers\n",
    "x = Dense(512, activation='relu',name='fc-1')(x)\n",
    "x = Dropout(0.5)(x)\n",
    "x = Dense(256, activation='relu',name='fc-2')(x)\n",
    "x = Dropout(0.5)(x)\n",
    "# a softmax layer for 4 classes\n",
    "out = Dense(num_classes, activation='softmax',name='output_layer')(x)\n",
    "\n",
    "# this is the model we will train\n",
    "custom_resnet_model2 = Model(inputs=model.input, outputs=out)\n",
    "\n",
    "custom_resnet_model2.summary()\n",
    "\n",
    "for layer in custom_resnet_model2.layers[:-6]:\n",
    "\tlayer.trainable = False\n",
    "\n",
    "custom_resnet_model2.layers[-1].trainable\n",
    "\n",
    "custom_resnet_model2.compile(loss='categorical_crossentropy',optimizer='adam',metrics=['accuracy'])\n",
    "\n",
    "t=time.time()\n",
    "hist = custom_resnet_model2.fit(X_train, y_train, batch_size=32, epochs=12, verbose=1, validation_data=(X_test, y_test))\n",
    "print('Training time: %s' % (t - time.time()))\n",
    "(loss, accuracy) = custom_resnet_model2.evaluate(X_test, y_test, batch_size=10, verbose=1)\n",
    "\n",
    "print(\"[INFO] loss={:.4f}, accuracy: {:.4f}%\".format(loss,accuracy * 100))\n"
   ]
  }
 ],
 "metadata": {
  "kernelspec": {
   "display_name": "Python 2",
   "language": "python",
   "name": "python2"
  },
  "language_info": {
   "codemirror_mode": {
    "name": "ipython",
    "version": 2
   },
   "file_extension": ".py",
   "mimetype": "text/x-python",
   "name": "python",
   "nbconvert_exporter": "python",
   "pygments_lexer": "ipython2",
   "version": "2.7.14"
  }
 },
 "nbformat": 4,
 "nbformat_minor": 2
}
